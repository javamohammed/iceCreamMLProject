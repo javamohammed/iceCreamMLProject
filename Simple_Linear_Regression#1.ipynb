# PROBLEM STATEMENT
You own an ice cream business and you would like to create a model that could predict the daily revenue in dollars based on the outside air temperature (degC). You decide that a Linear Regression model might be a good candidate to solve this problem.  
Data set:
- Independant variable X: Outside Air Temperature
- Dependant variable Y: Overall daily revenue generated in dollars 

# STEP #1: LIBRARIES IMPORT

import pandas as pd
import numpy as np
import matplotlib.pyplot as plt
import seaborn as sns


# STEP #2: IMPORT DATASET

IceCreamData = pd.read_csv("/content/IceCreamData.csv")

IceCreamData.head(5)

# STEP#3: VISUALIZE DATASET

sns.jointplot(x='Temperature', y='Revenue', data=IceCreamData, color='gray')
plt.show()

sns.pairplot(IceCreamData)
plt.show()

sns.lmplot(x='Temperature', y='Revenue', data=IceCreamData) #Showing  the best Line

